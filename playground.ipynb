{
 "cells": [
  {
   "cell_type": "code",
   "execution_count": 2,
   "metadata": {},
   "outputs": [],
   "source": [
    "import numpy as np\n",
    "import random\n",
    "from itertools import permutations\n",
    "\n",
    "lim = 5"
   ]
  },
  {
   "cell_type": "code",
   "execution_count": 3,
   "metadata": {},
   "outputs": [],
   "source": [
    "def count_sublist(lst, sublst):\n",
    "    count = 0\n",
    "    sublst_length = len(sublst)\n",
    "    \n",
    "    for i in range(len(lst) - sublst_length + 1):\n",
    "        if lst[i:i + sublst_length] == sublst:\n",
    "            count += 1\n",
    "    \n",
    "    return count"
   ]
  },
  {
   "cell_type": "code",
   "execution_count": 4,
   "metadata": {},
   "outputs": [],
   "source": [
    "def pprint(mat):\n",
    "    for m in mat:\n",
    "        print(m)"
   ]
  },
  {
   "cell_type": "code",
   "execution_count": 5,
   "metadata": {},
   "outputs": [],
   "source": [
    "source = [random.randint(0,lim-1) for i in range(100)]"
   ]
  },
  {
   "cell_type": "code",
   "execution_count": 6,
   "metadata": {},
   "outputs": [
    {
     "name": "stdout",
     "output_type": "stream",
     "text": [
      "[4, 5, 6, 2, 5]\n",
      "[2, 4, 5, 3, 3]\n",
      "[6, 4, 4, 4, 3]\n",
      "[3, 3, 1, 5, 6]\n",
      "[7, 2, 5, 3, 4]\n"
     ]
    }
   ],
   "source": [
    "matrix = []\n",
    "for i in range(lim):\n",
    "    arr = []\n",
    "    for j in range(lim):\n",
    "        arr.append(count_sublist(source,[i,j]))\n",
    "    matrix.append(arr)\n",
    "pprint(matrix)"
   ]
  },
  {
   "cell_type": "code",
   "execution_count": 7,
   "metadata": {},
   "outputs": [
    {
     "name": "stdout",
     "output_type": "stream",
     "text": [
      "[0.18181818181818182, 0.22727272727272727, 0.2727272727272727, 0.09090909090909091, 0.22727272727272727]\n",
      "[0.11764705882352941, 0.23529411764705882, 0.29411764705882354, 0.17647058823529413, 0.17647058823529413]\n",
      "[0.2857142857142857, 0.19047619047619047, 0.19047619047619047, 0.19047619047619047, 0.14285714285714285]\n",
      "[0.16666666666666666, 0.16666666666666666, 0.05555555555555555, 0.2777777777777778, 0.3333333333333333]\n",
      "[0.3333333333333333, 0.09523809523809523, 0.23809523809523808, 0.14285714285714285, 0.19047619047619047]\n"
     ]
    }
   ],
   "source": [
    "for i in range(len(matrix)):\n",
    "    s = sum(matrix[i])\n",
    "    for j in range(len(matrix[i])):\n",
    "        matrix[i][j]/=s\n",
    "\n",
    "pprint(matrix)\n",
    "\n",
    "for m in matrix:\n",
    "    if sum(m) != 1:\n",
    "        print(\"lolz\")"
   ]
  },
  {
   "cell_type": "code",
   "execution_count": 8,
   "metadata": {},
   "outputs": [
    {
     "name": "stdout",
     "output_type": "stream",
     "text": [
      "{'N0', 'P1', 'R2', 'R1', 'G2', 'D0', 'N1', 'M1', 'S1', 'S2', 'D1', 'G1'}\n",
      "17373720\n"
     ]
    }
   ],
   "source": [
    "data1 = []\n",
    "with open('yaman1.txt', 'r') as file:\n",
    "    data1 += file.read().split(\" \")\n",
    "    # print(set(data1))\n",
    "data2 = []\n",
    "with open('yaman2.txt', 'r') as file:\n",
    "    data2 += file.read().split(\" \")\n",
    "    # print(set(data2))\n",
    "data = data1+data2\n",
    "print(set(data))\n",
    "print(len(list(permutations(data,3))))"
   ]
  },
  {
   "cell_type": "code",
   "execution_count": 9,
   "metadata": {},
   "outputs": [
    {
     "name": "stdout",
     "output_type": "stream",
     "text": [
      "['N0', 'R1', 'N0', 'R1', 'G1', 'N0', 'R1', 'N0', 'G1', 'R1', 'G1', 'N0', 'M1', 'G1', 'R1', 'S1', 'N0', 'R1', 'G1', 'M1', 'R1', 'G1', 'M1', 'P1', 'M1']\n"
     ]
    }
   ],
   "source": [
    "smlim = 25\n",
    "smalldata = data[:smlim]\n",
    "print(smalldata)"
   ]
  },
  {
   "cell_type": "code",
   "execution_count": 15,
   "metadata": {},
   "outputs": [
    {
     "data": {
      "text/plain": [
       "{'N0': 0, 'P1': 1, 'R1': 2, 'M1': 3, 'S1': 4, 'G1': 5}"
      ]
     },
     "execution_count": 15,
     "metadata": {},
     "output_type": "execute_result"
    }
   ],
   "source": [
    "notes = dict(enumerate(set(smalldata)))\n",
    "notes = {value:key for key,value in notes.items()}\n",
    "notes"
   ]
  },
  {
   "cell_type": "code",
   "execution_count": 19,
   "metadata": {},
   "outputs": [
    {
     "data": {
      "text/plain": [
       "[0, 2, 0, 2, 5, 0, 2, 0, 5, 2, 5, 0, 3, 5, 2, 4, 0, 2, 5, 3, 2, 5, 3, 1, 3]"
      ]
     },
     "execution_count": 19,
     "metadata": {},
     "output_type": "execute_result"
    }
   ],
   "source": [
    "smalldatanum = [notes[i] for i in smalldata]\n",
    "(smalldatanum)"
   ]
  },
  {
   "cell_type": "code",
   "execution_count": null,
   "metadata": {},
   "outputs": [],
   "source": []
  }
 ],
 "metadata": {
  "kernelspec": {
   "display_name": "Python 3",
   "language": "python",
   "name": "python3"
  },
  "language_info": {
   "codemirror_mode": {
    "name": "ipython",
    "version": 3
   },
   "file_extension": ".py",
   "mimetype": "text/x-python",
   "name": "python",
   "nbconvert_exporter": "python",
   "pygments_lexer": "ipython3",
   "version": "3.11.4"
  }
 },
 "nbformat": 4,
 "nbformat_minor": 2
}
